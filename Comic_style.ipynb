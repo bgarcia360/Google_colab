{
  "nbformat": 4,
  "nbformat_minor": 0,
  "metadata": {
    "colab": {
      "name": "Comic_style.ipynb",
      "provenance": [],
      "authorship_tag": "ABX9TyP1+YfY0sZ0C8GH53zq38he",
      "include_colab_link": true
    },
    "kernelspec": {
      "name": "python3",
      "display_name": "Python 3"
    },
    "language_info": {
      "name": "python"
    }
  },
  "cells": [
    {
      "cell_type": "markdown",
      "metadata": {
        "id": "view-in-github",
        "colab_type": "text"
      },
      "source": [
        "<a href=\"https://colab.research.google.com/github/bgarcia360/Google_colab/blob/main/Comic_style.ipynb\" target=\"_parent\"><img src=\"https://colab.research.google.com/assets/colab-badge.svg\" alt=\"Open In Colab\"/></a>"
      ]
    },
    {
      "cell_type": "code",
      "metadata": {
        "colab": {
          "base_uri": "https://localhost:8080/"
        },
        "id": "bcnGp7pNX_b-",
        "outputId": "a024c485-b813-4100-a13b-5397168c4095"
      },
      "source": [
        "!pip install cutecharts"
      ],
      "execution_count": null,
      "outputs": [
        {
          "output_type": "stream",
          "text": [
            "Collecting cutecharts\n",
            "  Downloading cutecharts-1.2.0-py3-none-any.whl (17 kB)\n",
            "Requirement already satisfied: jinja2 in /usr/local/lib/python3.7/dist-packages (from cutecharts) (2.11.3)\n",
            "Requirement already satisfied: MarkupSafe>=0.23 in /usr/local/lib/python3.7/dist-packages (from jinja2->cutecharts) (2.0.1)\n",
            "Installing collected packages: cutecharts\n",
            "Successfully installed cutecharts-1.2.0\n"
          ],
          "name": "stdout"
        }
      ]
    },
    {
      "cell_type": "code",
      "metadata": {
        "id": "MKBTxwpKNyqN"
      },
      "source": [
        "import pandas as pd\n",
        "import numpy as np\n",
        "import matplotlib.pyplot as plt\n",
        "import matplotlib.ticker as ticker\n",
        "import seaborn as sns\n",
        "import sys\n",
        "import cutecharts\n",
        "  \n",
        "from cutecharts.charts import Bar\n",
        "from cutecharts.components import Page\n",
        "from cutecharts.faker import Faker\n",
        "from cutecharts.globals import use_jupyter_lab\n",
        "use_jupyter_lab()\n",
        "\n",
        "sns.set_theme\n",
        "sns.set_style\n",
        "sns.set()\n",
        "#plt.rcParams['figure.figsize'] = [40, 10]\n",
        "pd.set_option('display.max_rows', None)"
      ],
      "execution_count": null,
      "outputs": []
    },
    {
      "cell_type": "code",
      "metadata": {
        "colab": {
          "base_uri": "https://localhost:8080/",
          "height": 306
        },
        "id": "-1uk9otHQEg6",
        "outputId": "49bb9b57-b42d-4661-96c6-c54bf31c72ef"
      },
      "source": [
        "url='https://github.com/fivethirtyeight/data/blob/master/comic-characters/marvel-wikia-data.csv?raw=true'# data form https://github.com/andrewflowers \n",
        "comic=pd.read_csv(url)\n",
        "comic.head()"
      ],
      "execution_count": null,
      "outputs": [
        {
          "output_type": "execute_result",
          "data": {
            "text/html": [
              "<div>\n",
              "<style scoped>\n",
              "    .dataframe tbody tr th:only-of-type {\n",
              "        vertical-align: middle;\n",
              "    }\n",
              "\n",
              "    .dataframe tbody tr th {\n",
              "        vertical-align: top;\n",
              "    }\n",
              "\n",
              "    .dataframe thead th {\n",
              "        text-align: right;\n",
              "    }\n",
              "</style>\n",
              "<table border=\"1\" class=\"dataframe\">\n",
              "  <thead>\n",
              "    <tr style=\"text-align: right;\">\n",
              "      <th></th>\n",
              "      <th>page_id</th>\n",
              "      <th>name</th>\n",
              "      <th>urlslug</th>\n",
              "      <th>ID</th>\n",
              "      <th>ALIGN</th>\n",
              "      <th>EYE</th>\n",
              "      <th>HAIR</th>\n",
              "      <th>SEX</th>\n",
              "      <th>GSM</th>\n",
              "      <th>ALIVE</th>\n",
              "      <th>APPEARANCES</th>\n",
              "      <th>FIRST APPEARANCE</th>\n",
              "      <th>Year</th>\n",
              "    </tr>\n",
              "  </thead>\n",
              "  <tbody>\n",
              "    <tr>\n",
              "      <th>0</th>\n",
              "      <td>1678</td>\n",
              "      <td>Spider-Man (Peter Parker)</td>\n",
              "      <td>\\/Spider-Man_(Peter_Parker)</td>\n",
              "      <td>Secret Identity</td>\n",
              "      <td>Good Characters</td>\n",
              "      <td>Hazel Eyes</td>\n",
              "      <td>Brown Hair</td>\n",
              "      <td>Male Characters</td>\n",
              "      <td>NaN</td>\n",
              "      <td>Living Characters</td>\n",
              "      <td>4043.0</td>\n",
              "      <td>Aug-62</td>\n",
              "      <td>1962.0</td>\n",
              "    </tr>\n",
              "    <tr>\n",
              "      <th>1</th>\n",
              "      <td>7139</td>\n",
              "      <td>Captain America (Steven Rogers)</td>\n",
              "      <td>\\/Captain_America_(Steven_Rogers)</td>\n",
              "      <td>Public Identity</td>\n",
              "      <td>Good Characters</td>\n",
              "      <td>Blue Eyes</td>\n",
              "      <td>White Hair</td>\n",
              "      <td>Male Characters</td>\n",
              "      <td>NaN</td>\n",
              "      <td>Living Characters</td>\n",
              "      <td>3360.0</td>\n",
              "      <td>Mar-41</td>\n",
              "      <td>1941.0</td>\n",
              "    </tr>\n",
              "    <tr>\n",
              "      <th>2</th>\n",
              "      <td>64786</td>\n",
              "      <td>Wolverine (James \\\"Logan\\\" Howlett)</td>\n",
              "      <td>\\/Wolverine_(James_%22Logan%22_Howlett)</td>\n",
              "      <td>Public Identity</td>\n",
              "      <td>Neutral Characters</td>\n",
              "      <td>Blue Eyes</td>\n",
              "      <td>Black Hair</td>\n",
              "      <td>Male Characters</td>\n",
              "      <td>NaN</td>\n",
              "      <td>Living Characters</td>\n",
              "      <td>3061.0</td>\n",
              "      <td>Oct-74</td>\n",
              "      <td>1974.0</td>\n",
              "    </tr>\n",
              "    <tr>\n",
              "      <th>3</th>\n",
              "      <td>1868</td>\n",
              "      <td>Iron Man (Anthony \\\"Tony\\\" Stark)</td>\n",
              "      <td>\\/Iron_Man_(Anthony_%22Tony%22_Stark)</td>\n",
              "      <td>Public Identity</td>\n",
              "      <td>Good Characters</td>\n",
              "      <td>Blue Eyes</td>\n",
              "      <td>Black Hair</td>\n",
              "      <td>Male Characters</td>\n",
              "      <td>NaN</td>\n",
              "      <td>Living Characters</td>\n",
              "      <td>2961.0</td>\n",
              "      <td>Mar-63</td>\n",
              "      <td>1963.0</td>\n",
              "    </tr>\n",
              "    <tr>\n",
              "      <th>4</th>\n",
              "      <td>2460</td>\n",
              "      <td>Thor (Thor Odinson)</td>\n",
              "      <td>\\/Thor_(Thor_Odinson)</td>\n",
              "      <td>No Dual Identity</td>\n",
              "      <td>Good Characters</td>\n",
              "      <td>Blue Eyes</td>\n",
              "      <td>Blond Hair</td>\n",
              "      <td>Male Characters</td>\n",
              "      <td>NaN</td>\n",
              "      <td>Living Characters</td>\n",
              "      <td>2258.0</td>\n",
              "      <td>Nov-50</td>\n",
              "      <td>1950.0</td>\n",
              "    </tr>\n",
              "  </tbody>\n",
              "</table>\n",
              "</div>"
            ],
            "text/plain": [
              "   page_id                                 name  ... FIRST APPEARANCE    Year\n",
              "0     1678            Spider-Man (Peter Parker)  ...           Aug-62  1962.0\n",
              "1     7139      Captain America (Steven Rogers)  ...           Mar-41  1941.0\n",
              "2    64786  Wolverine (James \\\"Logan\\\" Howlett)  ...           Oct-74  1974.0\n",
              "3     1868    Iron Man (Anthony \\\"Tony\\\" Stark)  ...           Mar-63  1963.0\n",
              "4     2460                  Thor (Thor Odinson)  ...           Nov-50  1950.0\n",
              "\n",
              "[5 rows x 13 columns]"
            ]
          },
          "metadata": {},
          "execution_count": 5
        }
      ]
    },
    {
      "cell_type": "code",
      "metadata": {
        "colab": {
          "base_uri": "https://localhost:8080/",
          "height": 285
        },
        "id": "IT3lLr36Rk_X",
        "outputId": "ce055c9c-9adc-4e6a-85af-dc8d1e26e1a7"
      },
      "source": [
        "Eye_color =comic.groupby(\"EYE\")[\"name\"].count().reset_index(name=\"eye_count\")\n",
        "Eye_color=Eye_color.sort_values(by=['eye_count'],ascending=False)#sort_values(by=[\"First Year\"])\n",
        "Bar_=sns.barplot(x=\"EYE\",y='eye_count',data=Eye_color)"
      ],
      "execution_count": null,
      "outputs": [
        {
          "output_type": "display_data",
          "data": {
            "image/png": "[encoded data removed]",
            "text/plain": [
              "<Figure size 432x288 with 1 Axes>"
            ]
          },
          "metadata": {}
        }
      ]
    },
    {
      "cell_type": "code",
      "metadata": {
        "colab": {
          "base_uri": "https://localhost:8080/",
          "height": 103
        },
        "id": "FHwgWZ0qYf0E",
        "outputId": "6ea8cceb-e2d6-4873-813f-895d5de6e511"
      },
      "source": [
        "def bar_base() -> Bar: #example give on cutechart github\n",
        "    chart = Bar(\"EYE_color\")\n",
        "    chart.set_options(labels=Eye_color.EYE.to_list(), x_label=\"EYE Color\", y_label=\"EYE_Count\")\n",
        "    chart.add_series(\"count\", Eye_color.eye_count.to_list())\n",
        "    #chart.load_javascript()\n",
        "    #chart.render_notebook()\n",
        "\n",
        "    return chart\n",
        "bar_base().load_javascript()\n",
        "bar_base().render_notebook()\n",
        "bar_base().render()\n",
        "#  to see the graph copied it and paste it in the text file and save the file as HTML extension "
      ],
      "execution_count": null,
      "outputs": [
        {
          "output_type": "execute_result",
          "data": {
            "application/vnd.google.colaboratory.intrinsic+json": {
              "type": "string"
            },
            "text/plain": [
              "'\\n<!DOCTYPE html>\\n<html lang=\"en\">\\n<head>\\n    <meta charset=\"UTF-8\">\\n        <script type=\"text/javascript\" src=\"https://cdn.jsdelivr.net/npm/chart.xkcd@1.1/dist/chart.xkcd.min.js\"></script>\\n</head>\\n<body>\\n    <div id=\"6cc8a9d888984d90820466ec68c27b90\" class=\"chart-container\" style=\"width: 800px\">\\n        <svg id=\"chart_6cc8a9d888984d90820466ec68c27b90\"></svg>\\n    </div>\\n    <script>\\n        const svg_6cc8a9d888984d90820466ec68c27b90 = document.querySelector(\\'#chart_6cc8a9d888984d90820466ec68c27b90\\')\\n        const chart_6cc8a9d888984d90820466ec68c27b90 = new chartXkcd.Bar(svg_6cc8a9d888984d90820466ec68c27b90, {\"title\": \"EYE_color\", \"data\": {\"datasets\": [{\"label\": \"count\", \"data\": [1962, 1924, 613, 555, 508, 400, 256, 95, 76, 49, 31, 25, 21, 21, 14, 12, 11, 10, 7, 7, 6, 3, 2, 1]}], \"labels\": [\"Blue Eyes\", \"Brown Eyes\", \"Green Eyes\", \"Black Eyes\", \"Red Eyes\", \"White Eyes\", \"Yellow Eyes\", \"Grey Eyes\", \"Hazel Eyes\", \"Variable Eyes\", \"Purple Eyes\", \"Orange Eyes\", \"One Eye\", \"Pink Eyes\", \"Gold Eyes\", \"Silver Eyes\", \"Violet Eyes\", \"Amber Eyes\", \"Multiple Eyes\", \"No Eyes\", \"Yellow Eyeballs\", \"Black Eyeballs\", \"Magenta Eyes\", \"Compound Eyes\"]}, \"xLabel\": \"EYE Color\", \"yLabel\": \"EYE_Count\", \"options\": {\"yTickCount\": 3}});\\n    </script>\\n</body>\\n</html>\\n'"
            ]
          },
          "metadata": {},
          "execution_count": 18
        }
      ]
    },
    {
      "cell_type": "markdown",
      "metadata": {
        "id": "DOpwtqgWNAzE"
      },
      "source": [
        "```\n",
        "# This is formatted as code\n",
        "\n",
        "\n",
        "\n",
        "#<!DOCTYPE html>\n",
        "#<html lang=\"en\">\n",
        "<head>\n",
        "    <meta charset=\"UTF-8\">\n",
        "        <script type=\"text/javascript\" src=\"https://cdn.jsdelivr.net/npm/chart.xkcd@1.1/dist/chart.xkcd.min.js\"></script>\n",
        "</head>\n",
        "<body>\n",
        "    <div id=\"6cc8a9d888984d90820466ec68c27b90\" class=\"chart-container\" style=\"width: 800px\">\n",
        "        <svg id=\"chart_6cc8a9d888984d90820466ec68c27b90\"></svg>\n",
        "    </div>\n",
        "    <script>\n",
        "        const svg_6cc8a9d888984d90820466ec68c27b90 = document.querySelector('#chart_6cc8a9d888984d90820466ec68c27b90')\n",
        "        const chart_6cc8a9d888984d90820466ec68c27b90 = new chartXkcd.Bar(svg_6cc8a9d888984d90820466ec68c27b90, {\"title\": \"EYE_color\", \"data\": {\"datasets\": [{\"label\": \"count\", \"data\": [1962, 1924, 613, 555, 508, 400, 256, 95, 76, 49, 31, 25, 21, 21, 14, 12, 11, 10, 7, 7, 6, 3, 2, 1]}], \"labels\": [\"Blue Eyes\", \"Brown Eyes\", \"Green Eyes\", \"Black Eyes\", \"Red Eyes\", \"White Eyes\", \"Yellow Eyes\", \"Grey Eyes\", \"Hazel Eyes\", \"Variable Eyes\", \"Purple Eyes\", \"Orange Eyes\", \"One Eye\", \"Pink Eyes\", \"Gold Eyes\", \"Silver Eyes\", \"Violet Eyes\", \"Amber Eyes\", \"Multiple Eyes\", \"No Eyes\", \"Yellow Eyeballs\", \"Black Eyeballs\", \"Magenta Eyes\", \"Compound Eyes\"]}, \"xLabel\": \"EYE Color\", \"yLabel\": \"EYE_Count\", \"options\": {\"yTickCount\": 3}});\n",
        "    </script>\n",
        "</body>\n",
        "</html>\n",
        "```\n"
      ]
    },
    {
      "cell_type": "code",
      "metadata": {
        "colab": {
          "base_uri": "https://localhost:8080/"
        },
        "id": "HyLKIurXbZ3Z",
        "outputId": "41863995-40b7-422a-da51-6c2e0ec079fe"
      },
      "source": [
        "print(Faker.choose())#did not know this was "
      ],
      "execution_count": null,
      "outputs": [
        {
          "output_type": "stream",
          "text": [
            "['周一', '周二', '周三', '周四', '周五', '周六', '周日']\n"
          ],
          "name": "stdout"
        }
      ]
    },
    {
      "cell_type": "code",
      "metadata": {
        "colab": {
          "base_uri": "https://localhost:8080/"
        },
        "id": "3lpmuwW-bjk1",
        "outputId": "af9a27a8-ccad-421a-b468-3be7f446d71d"
      },
      "source": [
        "Eye_color.EYE.to_list()# to_list is a simpe array "
      ],
      "execution_count": null,
      "outputs": [
        {
          "output_type": "execute_result",
          "data": {
            "text/plain": [
              "['Amber Eyes',\n",
              " 'Black Eyeballs',\n",
              " 'Black Eyes',\n",
              " 'Blue Eyes',\n",
              " 'Brown Eyes',\n",
              " 'Compound Eyes',\n",
              " 'Gold Eyes',\n",
              " 'Green Eyes',\n",
              " 'Grey Eyes',\n",
              " 'Hazel Eyes',\n",
              " 'Magenta Eyes',\n",
              " 'Multiple Eyes',\n",
              " 'No Eyes',\n",
              " 'One Eye',\n",
              " 'Orange Eyes',\n",
              " 'Pink Eyes',\n",
              " 'Purple Eyes',\n",
              " 'Red Eyes',\n",
              " 'Silver Eyes',\n",
              " 'Variable Eyes',\n",
              " 'Violet Eyes',\n",
              " 'White Eyes',\n",
              " 'Yellow Eyeballs',\n",
              " 'Yellow Eyes']"
            ]
          },
          "metadata": {},
          "execution_count": 50
        }
      ]
    },
    {
      "cell_type": "markdown",
      "metadata": {
        "id": "Mk8OnubPZauU"
      },
      "source": [
        "\n",
        "<!DOCTYPE html>\n",
        "<html lang=\"en\">\n",
        "<head>\n",
        "    <meta charset=\"UTF-8\">\n",
        "        <script type=\"text/javascript\" src=\"https://cdn.jsdelivr.net/npm/chart.xkcd@1.1/dist/chart.xkcd.min.js\"></script>\n",
        "</head>\n",
        "<body>\n",
        "    <div id=\"324ad26face14933970138813970aaf1\" class=\"chart-container\" style=\"width: 800px\">\n",
        "        <svg id=\"chart_324ad26face14933970138813970aaf1\"></svg>\n",
        "    </div>\n",
        "    <script>\n",
        "        const svg_324ad26face14933970138813970aaf1 = document.querySelector('#chart_324ad26face14933970138813970aaf1')\n",
        "        const chart_324ad26face14933970138813970aaf1 = new chartXkcd.Line(svg_324ad26face14933970138813970aaf1, {\"title\": \"\\u67d0\\u5546\\u573a\\u9500\\u552e\\u60c5\\u51b5\", \"data\": {\"datasets\": [{\"label\": \"series-A\", \"data\": [57, 134, 137, 129, 145, 60, 49]}, {\"label\": \"series-B\", \"data\": [114, 55, 27, 101, 125, 27, 105]}], \"labels\": [\"\\u886c\\u886b\", \"\\u6bdb\\u8863\", \"\\u9886\\u5e26\", \"\\u88e4\\u5b50\", \"\\u98ce\\u8863\", \"\\u9ad8\\u8ddf\\u978b\", \"\\u889c\\u5b50\"]}, \"xLabel\": \"I'm xlabel\", \"yLabel\": \"I'm ylabel\", \"options\": {\"yTickCount\": 3, \"legendPosition\": 1}});\n",
        "    </script>\n",
        "</body>\n",
        "</html>\n"
      ]
    }
  ]
}