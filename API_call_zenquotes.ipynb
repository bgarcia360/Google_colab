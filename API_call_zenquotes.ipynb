{
  "nbformat": 4,
  "nbformat_minor": 0,
  "metadata": {
    "colab": {
      "provenance": [],
      "authorship_tag": "ABX9TyOiLjygcgAk2aVT6EiIw04w",
      "include_colab_link": true
    },
    "kernelspec": {
      "name": "python3",
      "display_name": "Python 3"
    },
    "language_info": {
      "name": "python"
    }
  },
  "cells": [
    {
      "cell_type": "markdown",
      "metadata": {
        "id": "view-in-github",
        "colab_type": "text"
      },
      "source": [
        "<a href=\"https://colab.research.google.com/github/bgarcia360/Google_colab/blob/main/API_call_zenquotes.ipynb\" target=\"_parent\"><img src=\"https://colab.research.google.com/assets/colab-badge.svg\" alt=\"Open In Colab\"/></a>"
      ]
    },
    {
      "cell_type": "code",
      "execution_count": 1,
      "metadata": {
        "colab": {
          "base_uri": "https://localhost:8080/"
        },
        "id": "_bhINmHiUkuN",
        "outputId": "d0013c13-054b-4cd6-80db-8a8a923e2a81"
      },
      "outputs": [
        {
          "output_type": "stream",
          "name": "stdout",
          "text": [
            "[ {\"q\":\"Patience is a form of wisdom. It demonstrates that we understand and accept the fact that sometimes things must unfold in their own time.\",\"a\":\"Jon Kabat-Zinn\",\"h\":\"<blockquote>&ldquo;Patience is a form of wisdom. It demonstrates that we understand and accept the fact that sometimes things must unfold in their own time.&rdquo; &mdash; <footer>Jon Kabat-Zinn</footer></blockquote>\"} ]\n"
          ]
        }
      ],
      "source": [
        "import requests \n",
        "import json\n",
        "response = requests.get(\"https://zenquotes.io/api/today\").text\n",
        "print(response)\n"
      ]
    },
    {
      "cell_type": "code",
      "source": [
        "info =json.loads(response)\n",
        "\n",
        "quote=info[0]['q']\n",
        "who = info[0]['a']\n",
        "print(quote)\n",
        "print(who)\n"
      ],
      "metadata": {
        "colab": {
          "base_uri": "https://localhost:8080/"
        },
        "id": "twT7kUtKUvXV",
        "outputId": "abaab3fe-c5c1-46d5-e6f9-5a71233b0726"
      },
      "execution_count": 2,
      "outputs": [
        {
          "output_type": "stream",
          "name": "stdout",
          "text": [
            "Patience is a form of wisdom. It demonstrates that we understand and accept the fact that sometimes things must unfold in their own time.\n",
            "Jon Kabat-Zinn\n"
          ]
        }
      ]
    }
  ]
}